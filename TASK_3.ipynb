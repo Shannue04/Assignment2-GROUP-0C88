{
  "nbformat": 4,
  "nbformat_minor": 0,
  "metadata": {
    "colab": {
      "provenance": []
    },
    "kernelspec": {
      "name": "python3",
      "display_name": "Python 3"
    },
    "language_info": {
      "name": "python"
    }
  },
  "cells": [
    {
      "cell_type": "code",
      "execution_count": null,
      "metadata": {
        "id": "2-TTzUdZcrWg"
      },
      "outputs": [],
      "source": [
        "def decrypt(encrypted_text, key):\n",
        "    decrypted_text = \"\"\n",
        "    for char in encrypted_text:\n",
        "        if char.isalpha():\n",
        "            shifted = ord(char) - key\n",
        "            if char.islower():\n",
        "                if shifted < ord('a'):\n",
        "                    shifted += 26\n",
        "                elif shifted > ord('z'):\n",
        "                    shifted -= 26\n",
        "            elif char.isupper():\n",
        "                if shifted < ord('A'):\n",
        "                    shifted += 26\n",
        "                elif shifted > ord('Z'):\n",
        "                    shifted -= 26\n",
        "            decrypted_text += chr(shifted)\n",
        "        else:\n",
        "            decrypted_text += char\n",
        "    return decrypted_text\n",
        "\n"
      ]
    },
    {
      "cell_type": "code",
      "source": [
        "# Given encrypted code (assuming it's given as 'encrypted_text')\n",
        "encrypted_text = \"tybony_inenvoyr = 100\\nzl_qvpg = {'xrl1': 'inyhr1', 'xrl2': 'inyhr2', 'xrl3': 'inyhr3'}\\n\\nqrs cebprff_ahzoref():\\n    tybony tybony_inenvoyr\\n    ybpny_inenvoyr = 5\\n    ahzoref = [1, 2, 3, 4, 5]\\n\\n    juvyr ybpny_inenvoyr > 0:\\n        vs ybpny_inenvoyr % 2 == 0:\\n            ahzoref.erzbir(ybpny_inenvoyr)\\n        ybpny_inenvoyr -= 1\\n\\n    erghea ahzoref\\n\\nzl_frg = {1, 2, 3, 4, 5, 5, 4, 3, 2, 1}\\nerfhyg = cebprff_ahzoref(ahzoref=zl_frg)\\n\\nqrs zbqvsl_qvpg():\\n    ybpny_inenvoyr = 10\\n    zl_qvpg['xrl4'] = ybpny_inenvoyr\\n\\nzbqvsl_qvpg(5)\\n\\nqrs hcgngr_tybony():\\n    tybony tybony_inenvoyr\\n    tybony_inenvoyr += 10\\n\\nsbe v va enatr(5):\\n    cevag(v)\\n    v += 1\\n\\nvs zl_frg vf abg Abar naq zl_qvpg['xrl4'] == 10:\\n    cevag('Pbapgvba zrg!')\\n\\nvs 5 abg va zl_qvpg:\\n    cevag('5 abg sbhaq va gur qvpgvbanerl!')\\n\\ncevag(tybony_inenvoyr)\\ncevag(zl_qvpg)\\ncevag(zl_frg)\"\n",
        "\n",
        "# Trying a possible key value to decrypt (example: key = 13, a common Caesar cipher shift)\n",
        "key = 13\n",
        "decrypted_code = decrypt(encrypted_text, key)\n",
        "\n",
        "# Display the decrypted code to identify errors and fixes\n",
        "print(decrypted_code)\n"
      ],
      "metadata": {
        "colab": {
          "base_uri": "https://localhost:8080/"
        },
        "id": "GOd_mD_VdDul",
        "outputId": "efe2f950-18bc-40da-e80c-147a2ffdc687"
      },
      "execution_count": null,
      "outputs": [
        {
          "output_type": "stream",
          "name": "stdout",
          "text": [
            "global_varaible = 100\n",
            "my_dict = {'key1': 'value1', 'key2': 'value2', 'key3': 'value3'}\n",
            "\n",
            "def process_numbers():\n",
            "    global global_varaible\n",
            "    local_varaible = 5\n",
            "    numbers = [1, 2, 3, 4, 5]\n",
            "\n",
            "    while local_varaible > 0:\n",
            "        if local_varaible % 2 == 0:\n",
            "            numbers.remove(local_varaible)\n",
            "        local_varaible -= 1\n",
            "\n",
            "    return numbers\n",
            "\n",
            "my_set = {1, 2, 3, 4, 5, 5, 4, 3, 2, 1}\n",
            "result = process_numbers(numbers=my_set)\n",
            "\n",
            "def modify_dict():\n",
            "    local_varaible = 10\n",
            "    my_dict['key4'] = local_varaible\n",
            "\n",
            "modify_dict(5)\n",
            "\n",
            "def uptate_global():\n",
            "    global global_varaible\n",
            "    global_varaible += 10\n",
            "\n",
            "for i in range(5):\n",
            "    print(i)\n",
            "    i += 1\n",
            "\n",
            "if my_set is not None and my_dict['key4'] == 10:\n",
            "    print('Conction met!')\n",
            "\n",
            "if 5 not in my_dict:\n",
            "    print('5 not found in the dictionarey!')\n",
            "\n",
            "print(global_varaible)\n",
            "print(my_dict)\n",
            "print(my_set)\n"
          ]
        }
      ]
    },
    {
      "cell_type": "code",
      "source": [
        "global_varaible = 100\n",
        "my_dict = {'key1': 'value1', 'key2': 'value2', 'key3': 'value3'}\n",
        "\n",
        "def process_numbers():\n",
        "    global global_varaible\n",
        "    local_varaible = 5\n",
        "    numbers = [1, 2, 3, 4, 5]\n",
        "\n",
        "    while local_varaible > 0:\n",
        "        if local_varaible % 2 == 0:\n",
        "            numbers.remove(local_varaible)\n",
        "        local_varaible -= 1\n",
        "\n",
        "    return numbers\n",
        "\n",
        "my_set = {1, 2, 3, 4, 5, 5, 4, 3, 2, 1}\n",
        "result = process_numbers(numbers=my_set)\n",
        "\n",
        "def modify_dict():\n",
        "    local_varaible = 10\n",
        "    my_dict['key4'] = local_varaible\n",
        "\n",
        "modify_dict(5)\n",
        "\n",
        "def uptate_global():\n",
        "    global global_varaible\n",
        "    global_varaible += 10\n",
        "\n",
        "for i in range(5):\n",
        "    print(i)\n",
        "    i += 1\n",
        "\n",
        "if my_set is not None and my_dict['key4'] == 10:\n",
        "    print('Conction met!')\n",
        "\n",
        "if 5 not in my_dict:\n",
        "    print('5 not found in the dictionarey!')\n",
        "\n",
        "print(global_varaible)\n",
        "print(my_dict)\n",
        "print(my_set)\n"
      ],
      "metadata": {
        "colab": {
          "base_uri": "https://localhost:8080/",
          "height": 211
        },
        "id": "JuiqDkdsdXN_",
        "outputId": "27aff881-8223-4f5f-f519-eac7ce910447"
      },
      "execution_count": null,
      "outputs": [
        {
          "output_type": "error",
          "ename": "TypeError",
          "evalue": "process_numbers() got an unexpected keyword argument 'numbers'",
          "traceback": [
            "\u001b[0;31m---------------------------------------------------------------------------\u001b[0m",
            "\u001b[0;31mTypeError\u001b[0m                                 Traceback (most recent call last)",
            "\u001b[0;32m<ipython-input-3-9abe6971ecb1>\u001b[0m in \u001b[0;36m<cell line: 17>\u001b[0;34m()\u001b[0m\n\u001b[1;32m     15\u001b[0m \u001b[0;34m\u001b[0m\u001b[0m\n\u001b[1;32m     16\u001b[0m \u001b[0mmy_set\u001b[0m \u001b[0;34m=\u001b[0m \u001b[0;34m{\u001b[0m\u001b[0;36m1\u001b[0m\u001b[0;34m,\u001b[0m \u001b[0;36m2\u001b[0m\u001b[0;34m,\u001b[0m \u001b[0;36m3\u001b[0m\u001b[0;34m,\u001b[0m \u001b[0;36m4\u001b[0m\u001b[0;34m,\u001b[0m \u001b[0;36m5\u001b[0m\u001b[0;34m,\u001b[0m \u001b[0;36m5\u001b[0m\u001b[0;34m,\u001b[0m \u001b[0;36m4\u001b[0m\u001b[0;34m,\u001b[0m \u001b[0;36m3\u001b[0m\u001b[0;34m,\u001b[0m \u001b[0;36m2\u001b[0m\u001b[0;34m,\u001b[0m \u001b[0;36m1\u001b[0m\u001b[0;34m}\u001b[0m\u001b[0;34m\u001b[0m\u001b[0;34m\u001b[0m\u001b[0m\n\u001b[0;32m---> 17\u001b[0;31m \u001b[0mresult\u001b[0m \u001b[0;34m=\u001b[0m \u001b[0mprocess_numbers\u001b[0m\u001b[0;34m(\u001b[0m\u001b[0mnumbers\u001b[0m\u001b[0;34m=\u001b[0m\u001b[0mmy_set\u001b[0m\u001b[0;34m)\u001b[0m\u001b[0;34m\u001b[0m\u001b[0;34m\u001b[0m\u001b[0m\n\u001b[0m\u001b[1;32m     18\u001b[0m \u001b[0;34m\u001b[0m\u001b[0m\n\u001b[1;32m     19\u001b[0m \u001b[0;32mdef\u001b[0m \u001b[0mmodify_dict\u001b[0m\u001b[0;34m(\u001b[0m\u001b[0;34m)\u001b[0m\u001b[0;34m:\u001b[0m\u001b[0;34m\u001b[0m\u001b[0;34m\u001b[0m\u001b[0m\n",
            "\u001b[0;31mTypeError\u001b[0m: process_numbers() got an unexpected keyword argument 'numbers'"
          ]
        }
      ]
    },
    {
      "cell_type": "code",
      "source": [
        "# Corrected code with explanations\n",
        "\n",
        "# Corrected global variable name spelling\n",
        "global_variable = 100\n",
        "\n",
        "# Corrected dictionary key names\n",
        "my_dict = {'key1': 'value1', 'key2': 'value2', 'key3': 'value3'}\n",
        "\n",
        "# Corrected function for processing numbers\n",
        "def process_numbers():\n",
        "    global global_variable  # Corrected spelling\n",
        "    local_variable = 5  # Corrected spelling\n",
        "    numbers = [1, 2, 3, 4, 5]\n",
        "\n",
        "    while local_variable > 0:  # Fixed indentation error\n",
        "        if local_variable % 2 == 0:\n",
        "            numbers.remove(local_variable)  # Correct method call\n",
        "        local_variable -= 1\n",
        "\n",
        "    return numbers\n",
        "\n",
        "# Sets cannot have duplicate values; removed redundant values\n",
        "my_set = {1, 2, 3, 4, 5}\n",
        "result = process_numbers()  # Corrected the call without passing arguments\n",
        "\n",
        "# Corrected function to modify the dictionary\n",
        "def modify_dict():\n",
        "    local_variable = 10  # Corrected spelling\n",
        "    my_dict['key4'] = local_variable  # Corrected the dictionary update\n",
        "\n",
        "modify_dict()  # Corrected the call without passing arguments\n",
        "\n",
        "# Corrected function name to update the global variable\n",
        "def update_global():\n",
        "    global global_variable  # Corrected spelling\n",
        "    global_variable += 10\n",
        "\n",
        "update_global()  # Added a call to update the global variable\n",
        "\n",
        "# Corrected the for-loop logic\n",
        "for i in range(5):\n",
        "    print(i)\n",
        "\n",
        "# Fixed logical condition and string typo in the if statement\n",
        "if my_set is not None and my_dict['key4'] == 10:\n",
        "    print('Condition met!')\n",
        "\n",
        "# Corrected the logic and string typo in the second if statement\n",
        "if 5 not in my_dict:\n",
        "    print('5 not found in the dictionary!')\n",
        "\n",
        "# Corrected print statements to show output\n",
        "print(global_variable)\n",
        "print(my_dict)\n",
        "print(my_set)\n"
      ],
      "metadata": {
        "id": "Qs9EQZXOdtQs",
        "outputId": "f8012f6f-53e4-4661-933c-8b9daf5e18a6",
        "colab": {
          "base_uri": "https://localhost:8080/"
        }
      },
      "execution_count": null,
      "outputs": [
        {
          "output_type": "stream",
          "name": "stdout",
          "text": [
            "0\n",
            "1\n",
            "2\n",
            "3\n",
            "4\n",
            "Condition met!\n",
            "5 not found in the dictionary!\n",
            "110\n",
            "{'key1': 'value1', 'key2': 'value2', 'key3': 'value3', 'key4': 10}\n",
            "{1, 2, 3, 4, 5}\n"
          ]
        }
      ]
    }
  ]
}